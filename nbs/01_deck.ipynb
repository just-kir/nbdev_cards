{
 "cells": [
  {
   "cell_type": "markdown",
   "metadata": {},
   "source": [
    "# deck\n",
    "\n",
    "> A deck of playing cards"
   ]
  },
  {
   "cell_type": "code",
   "execution_count": null,
   "metadata": {},
   "outputs": [],
   "source": [
    "#| default_exp deck"
   ]
  },
  {
   "cell_type": "code",
   "execution_count": null,
   "metadata": {},
   "outputs": [],
   "source": [
    "#| hide\n",
    "from nbdev.showdoc import *\n",
    "from fastcore.test import *"
   ]
  },
  {
   "cell_type": "code",
   "execution_count": null,
   "metadata": {},
   "outputs": [],
   "source": [
    "#| export\n",
    "from fastcore.utils import *\n",
    "from nbdev_cards.card import *\n",
    "import random"
   ]
  },
  {
   "cell_type": "code",
   "execution_count": null,
   "metadata": {},
   "outputs": [],
   "source": [
    "#| export\n",
    "class Deck:\n",
    "  \"A deck of 52 cards.\"\n",
    "  def __init__(self):\n",
    "    self.cards = [Card(rank, suit) for suit in range(1, 14) for rank in range(4)]\n",
    "  def __len__(self):\n",
    "    return len(self.cards)\n",
    "  def __contains__(self, card):\n",
    "    return card in self.cards\n",
    "  def __str__(self):\n",
    "    return '; '.join(map(str, self.cards))\n",
    "  __repr__ = __str__\n",
    "  \n",
    "  def shuffle(self):\n",
    "    \"Shuffle the deck.\"\n",
    "    random.shuffle(self.cards)\n",
    "  "
   ]
  },
  {
   "cell_type": "markdown",
   "metadata": {},
   "source": [
    "When we create a deck, all of the cards are present"
   ]
  },
  {
   "cell_type": "code",
   "execution_count": null,
   "metadata": {},
   "outputs": [
    {
     "data": {
      "text/plain": [
       "A♠; A♥; A♦; A♣; 2♠; 2♥; 2♦; 2♣; 3♠; 3♥; 3♦; 3♣; 4♠; 4♥; 4♦; 4♣; 5♠; 5♥; 5♦; 5♣; 6♠; 6♥; 6♦; 6♣; 7♠; 7♥; 7♦; 7♣; 8♠; 8♥; 8♦; 8♣; 9♠; 9♥; 9♦; 9♣; 10♠; 10♥; 10♦; 10♣; J♠; J♥; J♦; J♣; Q♠; Q♥; Q♦; Q♣; K♠; K♥; K♦; K♣"
      ]
     },
     "execution_count": null,
     "metadata": {},
     "output_type": "execute_result"
    }
   ],
   "source": [
    "deck = Deck()\n",
    "deck"
   ]
  },
  {
   "cell_type": "markdown",
   "metadata": {},
   "source": [
    "52 cards:"
   ]
  },
  {
   "cell_type": "code",
   "execution_count": null,
   "metadata": {},
   "outputs": [],
   "source": [
    "test_eq(len(deck), 52)"
   ]
  },
  {
   "cell_type": "code",
   "execution_count": null,
   "metadata": {},
   "outputs": [],
   "source": [
    "#| export\n",
    "@patch\n",
    "def pop(self:Deck, \n",
    "        idx:int=-1\n",
    "        ) -> Card:\n",
    "  \"Remove top card from the deck\"\n",
    "  return self.cards.pop(idx)"
   ]
  },
  {
   "cell_type": "code",
   "execution_count": null,
   "metadata": {},
   "outputs": [],
   "source": [
    "deck = Deck()\n",
    "test_eq(deck.pop(), Card(3, 13))"
   ]
  },
  {
   "cell_type": "code",
   "execution_count": null,
   "metadata": {},
   "outputs": [],
   "source": [
    "#| export\n",
    "@patch\n",
    "def remove(self:Deck,\n",
    "           card:Card\n",
    "           ) -> None:\n",
    "  \"Remove a `Card` from the deck\"\n",
    "  self.cards.remove(card)\n",
    "  "
   ]
  },
  {
   "cell_type": "code",
   "execution_count": null,
   "metadata": {},
   "outputs": [],
   "source": [
    "card23 = Card(2, 3)\n",
    "deck = Deck()\n",
    "deck.remove(card23)\n",
    "assert card23 not in deck"
   ]
  },
  {
   "cell_type": "code",
   "execution_count": null,
   "metadata": {},
   "outputs": [
    {
     "data": {
      "text/markdown": [
       "---\n",
       "\n",
       "### Deck.shuffle\n",
       "\n",
       ">      Deck.shuffle ()\n",
       "\n",
       "*Shuffle the deck.*"
      ],
      "text/plain": [
       "---\n",
       "\n",
       "### Deck.shuffle\n",
       "\n",
       ">      Deck.shuffle ()\n",
       "\n",
       "*Shuffle the deck.*"
      ]
     },
     "execution_count": null,
     "metadata": {},
     "output_type": "execute_result"
    }
   ],
   "source": [
    "show_doc(Deck.shuffle)"
   ]
  },
  {
   "cell_type": "code",
   "execution_count": null,
   "metadata": {},
   "outputs": [],
   "source": [
    "#| export \n",
    "def draw_n(n:int, # number of cards to draw\n",
    "           replace:bool=True # whether to replace the drawn cards\n",
    "           ) -> list:\n",
    "  \"Draw `n` cards from the deck with replacement iif `replace` is True\"\n",
    "  d = Deck()\n",
    "  d.shuffle()\n",
    "  if replace:\n",
    "    return [d.cards[random.choice(range(len(d.cards)))] for _ in range(n)]\n",
    "  else:\n",
    "    return d.cards[:n]"
   ]
  },
  {
   "cell_type": "code",
   "execution_count": null,
   "metadata": {},
   "outputs": [
    {
     "data": {
      "text/plain": [
       "[3♥, J♦, 8♦, 4♠, K♠]"
      ]
     },
     "execution_count": null,
     "metadata": {},
     "output_type": "execute_result"
    }
   ],
   "source": [
    "draw_n(5)"
   ]
  },
  {
   "cell_type": "code",
   "execution_count": null,
   "metadata": {},
   "outputs": [],
   "source": [
    "#| hide\n",
    "import nbdev; nbdev.nbdev_export()"
   ]
  },
  {
   "cell_type": "code",
   "execution_count": null,
   "metadata": {},
   "outputs": [],
   "source": []
  }
 ],
 "metadata": {
  "kernelspec": {
   "display_name": "python3",
   "language": "python",
   "name": "python3"
  }
 },
 "nbformat": 4,
 "nbformat_minor": 4
}
